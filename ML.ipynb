{
 "cells": [
  {
   "cell_type": "markdown",
   "metadata": {},
   "source": [
    "DISEASE OUTBREAK PREDICTION VIA SOCIAL MEDIA "
   ]
  },
  {
   "cell_type": "markdown",
   "metadata": {},
   "source": [
    "importing necessary libraries"
   ]
  },
  {
   "cell_type": "code",
   "execution_count": 48,
   "metadata": {},
   "outputs": [
    {
     "name": "stderr",
     "output_type": "stream",
     "text": [
      "[nltk_data] Downloading package wordnet to\n",
      "[nltk_data]     C:\\Users\\kedar\\AppData\\Roaming\\nltk_data...\n",
      "[nltk_data]   Package wordnet is already up-to-date!\n"
     ]
    },
    {
     "data": {
      "text/plain": [
       "True"
      ]
     },
     "execution_count": 48,
     "metadata": {},
     "output_type": "execute_result"
    }
   ],
   "source": [
    "import pandas as pd\n",
    "import numpy as np\n",
    "import matplotlib.pyplot as plt\n",
    "import nltk\n",
    "from nltk.corpus import stopwords\n",
    "from nltk.stem import WordNetLemmatizer\n",
    "import re\n",
    "from datetime import datetime, timezone\n",
    "nltk.download('wordnet') #lexical database\n",
    "# import locationtagger\n",
    "# import spacy\n",
    "#import dask.dataframe as dd # parallel processing for pandas (to read large datasets) fixed memory issue "
   ]
  },
  {
   "cell_type": "markdown",
   "metadata": {},
   "source": [
    "Data Loading"
   ]
  },
  {
   "cell_type": "code",
   "execution_count": 2,
   "id": "70134bec",
   "metadata": {},
   "outputs": [],
   "source": [
    "# reading comments dataset (do not have enough computational power and memory space to read the entire dataset)\n",
    "data_comments = pd.read_csv('C:\\\\Users\\\\kedar\\\\OneDrive\\\\Desktop\\\\ML mini project\\\\DiseaseOutbreak_Dataset\\\\the-reddit-covid-dataset-comments.csv', nrows=1000000)"
   ]
  },
  {
   "cell_type": "code",
   "execution_count": 3,
   "id": "e06ed9a5",
   "metadata": {},
   "outputs": [
    {
     "data": {
      "text/html": [
       "<div>\n",
       "<style scoped>\n",
       "    .dataframe tbody tr th:only-of-type {\n",
       "        vertical-align: middle;\n",
       "    }\n",
       "\n",
       "    .dataframe tbody tr th {\n",
       "        vertical-align: top;\n",
       "    }\n",
       "\n",
       "    .dataframe thead th {\n",
       "        text-align: right;\n",
       "    }\n",
       "</style>\n",
       "<table border=\"1\" class=\"dataframe\">\n",
       "  <thead>\n",
       "    <tr style=\"text-align: right;\">\n",
       "      <th></th>\n",
       "      <th>type</th>\n",
       "      <th>id</th>\n",
       "      <th>subreddit.id</th>\n",
       "      <th>subreddit.name</th>\n",
       "      <th>subreddit.nsfw</th>\n",
       "      <th>created_utc</th>\n",
       "      <th>permalink</th>\n",
       "      <th>body</th>\n",
       "      <th>sentiment</th>\n",
       "      <th>score</th>\n",
       "    </tr>\n",
       "  </thead>\n",
       "  <tbody>\n",
       "    <tr>\n",
       "      <th>0</th>\n",
       "      <td>comment</td>\n",
       "      <td>hi1vsag</td>\n",
       "      <td>2riyy</td>\n",
       "      <td>nova</td>\n",
       "      <td>False</td>\n",
       "      <td>1635206399</td>\n",
       "      <td>https://old.reddit.com/r/nova/comments/qfs53d/...</td>\n",
       "      <td>When you scheduled your booster with CVS does ...</td>\n",
       "      <td>0.0000</td>\n",
       "      <td>2</td>\n",
       "    </tr>\n",
       "    <tr>\n",
       "      <th>1</th>\n",
       "      <td>comment</td>\n",
       "      <td>hi1vs7i</td>\n",
       "      <td>2qhov</td>\n",
       "      <td>vancouver</td>\n",
       "      <td>False</td>\n",
       "      <td>1635206397</td>\n",
       "      <td>https://old.reddit.com/r/vancouver/comments/qf...</td>\n",
       "      <td>Didn't stop prices there though. New Zealand a...</td>\n",
       "      <td>0.1887</td>\n",
       "      <td>32</td>\n",
       "    </tr>\n",
       "    <tr>\n",
       "      <th>2</th>\n",
       "      <td>comment</td>\n",
       "      <td>hi1vs5n</td>\n",
       "      <td>2qwzb</td>\n",
       "      <td>pregnant</td>\n",
       "      <td>False</td>\n",
       "      <td>1635206397</td>\n",
       "      <td>https://old.reddit.com/r/pregnant/comments/qfs...</td>\n",
       "      <td>I’m just waiting until after pregnancy to get ...</td>\n",
       "      <td>0.6720</td>\n",
       "      <td>1</td>\n",
       "    </tr>\n",
       "    <tr>\n",
       "      <th>3</th>\n",
       "      <td>comment</td>\n",
       "      <td>hi1vs5v</td>\n",
       "      <td>2qixm</td>\n",
       "      <td>startrek</td>\n",
       "      <td>False</td>\n",
       "      <td>1635206397</td>\n",
       "      <td>https://old.reddit.com/r/startrek/comments/qft...</td>\n",
       "      <td>*The first duty of every Starfleet officer is ...</td>\n",
       "      <td>0.9562</td>\n",
       "      <td>1</td>\n",
       "    </tr>\n",
       "    <tr>\n",
       "      <th>4</th>\n",
       "      <td>comment</td>\n",
       "      <td>hi1vs0l</td>\n",
       "      <td>2qsf3</td>\n",
       "      <td>ontario</td>\n",
       "      <td>False</td>\n",
       "      <td>1635206395</td>\n",
       "      <td>https://old.reddit.com/r/ontario/comments/qfkj...</td>\n",
       "      <td>Compare BC to Ontario for COVID. It's even mor...</td>\n",
       "      <td>0.0000</td>\n",
       "      <td>-2</td>\n",
       "    </tr>\n",
       "  </tbody>\n",
       "</table>\n",
       "</div>"
      ],
      "text/plain": [
       "      type       id subreddit.id subreddit.name  subreddit.nsfw  created_utc  \\\n",
       "0  comment  hi1vsag        2riyy           nova           False   1635206399   \n",
       "1  comment  hi1vs7i        2qhov      vancouver           False   1635206397   \n",
       "2  comment  hi1vs5n        2qwzb       pregnant           False   1635206397   \n",
       "3  comment  hi1vs5v        2qixm       startrek           False   1635206397   \n",
       "4  comment  hi1vs0l        2qsf3        ontario           False   1635206395   \n",
       "\n",
       "                                           permalink  \\\n",
       "0  https://old.reddit.com/r/nova/comments/qfs53d/...   \n",
       "1  https://old.reddit.com/r/vancouver/comments/qf...   \n",
       "2  https://old.reddit.com/r/pregnant/comments/qfs...   \n",
       "3  https://old.reddit.com/r/startrek/comments/qft...   \n",
       "4  https://old.reddit.com/r/ontario/comments/qfkj...   \n",
       "\n",
       "                                                body  sentiment  score  \n",
       "0  When you scheduled your booster with CVS does ...     0.0000      2  \n",
       "1  Didn't stop prices there though. New Zealand a...     0.1887     32  \n",
       "2  I’m just waiting until after pregnancy to get ...     0.6720      1  \n",
       "3  *The first duty of every Starfleet officer is ...     0.9562      1  \n",
       "4  Compare BC to Ontario for COVID. It's even mor...     0.0000     -2  "
      ]
     },
     "execution_count": 3,
     "metadata": {},
     "output_type": "execute_result"
    }
   ],
   "source": [
    "#checking whether the data loaded\n",
    "data_comments.head()"
   ]
  },
  {
   "cell_type": "code",
   "execution_count": 4,
   "id": "83a2d68c",
   "metadata": {},
   "outputs": [],
   "source": [
    "data_stats = pd.read_csv('WHO-COVID-19-global-data.csv')"
   ]
  },
  {
   "cell_type": "code",
   "execution_count": 5,
   "id": "1dc19666",
   "metadata": {},
   "outputs": [
    {
     "data": {
      "text/html": [
       "<div>\n",
       "<style scoped>\n",
       "    .dataframe tbody tr th:only-of-type {\n",
       "        vertical-align: middle;\n",
       "    }\n",
       "\n",
       "    .dataframe tbody tr th {\n",
       "        vertical-align: top;\n",
       "    }\n",
       "\n",
       "    .dataframe thead th {\n",
       "        text-align: right;\n",
       "    }\n",
       "</style>\n",
       "<table border=\"1\" class=\"dataframe\">\n",
       "  <thead>\n",
       "    <tr style=\"text-align: right;\">\n",
       "      <th></th>\n",
       "      <th>Date_reported</th>\n",
       "      <th>Country_code</th>\n",
       "      <th>Country</th>\n",
       "      <th>WHO_region</th>\n",
       "      <th>New_cases</th>\n",
       "      <th>Cumulative_cases</th>\n",
       "      <th>New_deaths</th>\n",
       "      <th>Cumulative_deaths</th>\n",
       "    </tr>\n",
       "  </thead>\n",
       "  <tbody>\n",
       "    <tr>\n",
       "      <th>0</th>\n",
       "      <td>2020-01-03</td>\n",
       "      <td>AF</td>\n",
       "      <td>Afghanistan</td>\n",
       "      <td>EMRO</td>\n",
       "      <td>0</td>\n",
       "      <td>0</td>\n",
       "      <td>0</td>\n",
       "      <td>0</td>\n",
       "    </tr>\n",
       "    <tr>\n",
       "      <th>1</th>\n",
       "      <td>2020-01-04</td>\n",
       "      <td>AF</td>\n",
       "      <td>Afghanistan</td>\n",
       "      <td>EMRO</td>\n",
       "      <td>0</td>\n",
       "      <td>0</td>\n",
       "      <td>0</td>\n",
       "      <td>0</td>\n",
       "    </tr>\n",
       "    <tr>\n",
       "      <th>2</th>\n",
       "      <td>2020-01-05</td>\n",
       "      <td>AF</td>\n",
       "      <td>Afghanistan</td>\n",
       "      <td>EMRO</td>\n",
       "      <td>0</td>\n",
       "      <td>0</td>\n",
       "      <td>0</td>\n",
       "      <td>0</td>\n",
       "    </tr>\n",
       "    <tr>\n",
       "      <th>3</th>\n",
       "      <td>2020-01-06</td>\n",
       "      <td>AF</td>\n",
       "      <td>Afghanistan</td>\n",
       "      <td>EMRO</td>\n",
       "      <td>0</td>\n",
       "      <td>0</td>\n",
       "      <td>0</td>\n",
       "      <td>0</td>\n",
       "    </tr>\n",
       "    <tr>\n",
       "      <th>4</th>\n",
       "      <td>2020-01-07</td>\n",
       "      <td>AF</td>\n",
       "      <td>Afghanistan</td>\n",
       "      <td>EMRO</td>\n",
       "      <td>0</td>\n",
       "      <td>0</td>\n",
       "      <td>0</td>\n",
       "      <td>0</td>\n",
       "    </tr>\n",
       "  </tbody>\n",
       "</table>\n",
       "</div>"
      ],
      "text/plain": [
       "  Date_reported Country_code      Country WHO_region  New_cases  \\\n",
       "0    2020-01-03           AF  Afghanistan       EMRO          0   \n",
       "1    2020-01-04           AF  Afghanistan       EMRO          0   \n",
       "2    2020-01-05           AF  Afghanistan       EMRO          0   \n",
       "3    2020-01-06           AF  Afghanistan       EMRO          0   \n",
       "4    2020-01-07           AF  Afghanistan       EMRO          0   \n",
       "\n",
       "   Cumulative_cases  New_deaths  Cumulative_deaths  \n",
       "0                 0           0                  0  \n",
       "1                 0           0                  0  \n",
       "2                 0           0                  0  \n",
       "3                 0           0                  0  \n",
       "4                 0           0                  0  "
      ]
     },
     "execution_count": 5,
     "metadata": {},
     "output_type": "execute_result"
    }
   ],
   "source": [
    "data_stats.head()"
   ]
  },
  {
   "cell_type": "markdown",
   "metadata": {},
   "source": [
    "Data Pre-processing"
   ]
  },
  {
   "cell_type": "markdown",
   "metadata": {},
   "source": [
    "handling missing values"
   ]
  },
  {
   "cell_type": "code",
   "execution_count": 6,
   "id": "5107eec4",
   "metadata": {},
   "outputs": [
    {
     "name": "stdout",
     "output_type": "stream",
     "text": [
      "Nan values in column of Comments dataset:  Date_reported           0\n",
      "Country_code         1407\n",
      "Country                 0\n",
      "WHO_region              0\n",
      "New_cases               0\n",
      "Cumulative_cases        0\n",
      "New_deaths              0\n",
      "Cumulative_deaths       0\n",
      "dtype: int64\n",
      "Nan values in column of Comments dataset:  type                  0\n",
      "id                    0\n",
      "subreddit.id          0\n",
      "subreddit.name        0\n",
      "subreddit.nsfw        0\n",
      "created_utc           0\n",
      "permalink             0\n",
      "body                  0\n",
      "sentiment         37937\n",
      "score                 0\n",
      "dtype: int64\n"
     ]
    }
   ],
   "source": [
    "nan_stats = data_stats.isna().sum()\n",
    "print('Nan values in column of Comments dataset: ',nan_stats)\n",
    "nan_comments = data_comments.isna().sum()\n",
    "print('Nan values in column of Comments dataset: ',nan_comments)"
   ]
  },
  {
   "cell_type": "markdown",
   "metadata": {},
   "source": [
    "conclusions:\n",
    "1) comments dataset: sentiments has too many missing values - drop column\n",
    "2) stats dataset: Country_code has too many missing values\n",
    "3) dropping type,id, subreddit.id, subreddit.name,subreddit.nsfw, permalink since they aren't relevant to the prediction of disease outbreak (logically)"
   ]
  },
  {
   "cell_type": "code",
   "execution_count": 7,
   "id": "1af3b618",
   "metadata": {},
   "outputs": [],
   "source": [
    "data_stats = data_stats.drop(columns = 'Country_code')\n",
    "data_comments = data_comments.drop(columns = 'sentiment')\n",
    "\n",
    "data_comments = data_comments.drop(columns = ['type','id','subreddit.id','subreddit.nsfw', 'permalink'])"
   ]
  },
  {
   "cell_type": "code",
   "execution_count": 8,
   "id": "7ff2ef49",
   "metadata": {},
   "outputs": [],
   "source": [
    "# converting all utc objects to date-time objects\n",
    "data_comments['created_utc'] = pd.to_datetime(data_comments['created_utc'], unit='s', utc=True)\n",
    "data_stats['Date_reported'] = pd.to_datetime(data_stats['Date_reported'], errors='coerce')"
   ]
  },
  {
   "cell_type": "code",
   "execution_count": 9,
   "id": "e825c77c",
   "metadata": {},
   "outputs": [
    {
     "name": "stdout",
     "output_type": "stream",
     "text": [
      "Nan values in column of Comments dataset:  Date_reported        0\n",
      "Country              0\n",
      "WHO_region           0\n",
      "New_cases            0\n",
      "Cumulative_cases     0\n",
      "New_deaths           0\n",
      "Cumulative_deaths    0\n",
      "dtype: int64\n",
      "Nan values in column of Comments dataset:  subreddit.name    0\n",
      "created_utc       0\n",
      "body              0\n",
      "score             0\n",
      "dtype: int64\n"
     ]
    }
   ],
   "source": [
    "# re analaysing:\\n\",\n",
    "nan_stats = data_stats.isna().sum()\n",
    "print('Nan values in column of Comments dataset: ',nan_stats)\n",
    "nan_comments = data_comments.isna().sum()\n",
    "print('Nan values in column of Comments dataset: ',nan_comments)"
   ]
  },
  {
   "cell_type": "markdown",
   "metadata": {},
   "source": [
    "Temporal Analysis - Daily Granularity"
   ]
  },
  {
   "cell_type": "code",
   "execution_count": 10,
   "id": "0490ab7e",
   "metadata": {},
   "outputs": [
    {
     "name": "stdout",
     "output_type": "stream",
     "text": [
      "      Year  Month  Day  New_cases  Cumulative_cases  New_deaths  \\\n",
      "0     2020      1    3          0                 0           0   \n",
      "1     2020      1    4          3                 1           0   \n",
      "2     2020      1    5         -1                 1           3   \n",
      "3     2020      1    6          3                 4           0   \n",
      "4     2020      1    7          0                 4           0   \n",
      "...    ...    ...  ...        ...               ...         ...   \n",
      "1402  2023     11    5       3747         103436829         108   \n",
      "1403  2023     11    6          0         103436829           0   \n",
      "1404  2023     11    7          0         103436829           0   \n",
      "1405  2023     11    8          0         103436829           0   \n",
      "1406  2023     11    9          0         103436829           0   \n",
      "\n",
      "      Cumulative_deaths  Percentage_outbreak  \n",
      "0                     0         0.000000e+00  \n",
      "1                     0         1.282051e-08  \n",
      "2                     3         1.282051e-08  \n",
      "3                     3         5.128205e-08  \n",
      "4                     3         5.128205e-08  \n",
      "...                 ...                  ...  \n",
      "1402            1138309         1.326113e+00  \n",
      "1403            1138309         1.326113e+00  \n",
      "1404            1138309         1.326113e+00  \n",
      "1405            1138309         1.326113e+00  \n",
      "1406            1138309         1.326113e+00  \n",
      "\n",
      "[1407 rows x 8 columns]\n"
     ]
    }
   ],
   "source": [
    "import pandas as pd\n",
    "\n",
    "# Set the total population\n",
    "total_population = 7800000000 \n",
    "\n",
    "# Day, Month, Year extraction\n",
    "data_stats['Date_reported'] = pd.to_datetime(data_stats['Date_reported'])\n",
    "data_stats['Day'] = data_stats['Date_reported'].dt.day\n",
    "data_stats['Month'] = data_stats['Date_reported'].dt.month\n",
    "data_stats['Year'] = data_stats['Date_reported'].dt.year\n",
    "\n",
    "# Grouping data by Year, Month, and Day, and calculating aggregated statistics\n",
    "daily_stats = data_stats.groupby(['Year', 'Month', 'Day']).agg({\n",
    "    'New_cases': 'sum',\n",
    "    'Cumulative_cases': 'max',  \n",
    "    'New_deaths': 'sum',\n",
    "    'Cumulative_deaths': 'max'  \n",
    "}).reset_index()\n",
    "\n",
    "# Calculating the percentage of outbreak for each day\n",
    "daily_stats['Percentage_outbreak'] = (daily_stats['Cumulative_cases'] / total_population) * 100\n",
    "\n",
    "# Display the DataFrame with daily granularity\n",
    "print(daily_stats)"
   ]
  },
  {
   "cell_type": "markdown",
   "metadata": {},
   "source": [
    "visualising daily statistical data vs. COVID outbreak percentage"
   ]
  },
  {
   "cell_type": "code",
   "execution_count": 50,
   "metadata": {},
   "outputs": [
    {
     "data": {
      "image/png": "[encoded data removed]",
      "text/plain": [
       "<Figure size 720x432 with 1 Axes>"
      ]
     },
     "metadata": {
      "needs_background": "light"
     },
     "output_type": "display_data"
    }
   ],
   "source": [
    "daily_stats['Date'] = pd.to_datetime(daily_stats[['Year', 'Month', 'Day']])\n",
    "\n",
    "# Plotting the percentage outbreak vs time\n",
    "plt.figure(figsize=(10, 6))\n",
    "plt.plot(daily_stats['Date'], daily_stats['Percentage_outbreak'], marker='o', linestyle='-', color='b')\n",
    "plt.title('Percentage of Population Affected by COVID Outbreak Over Time')\n",
    "plt.xlabel('Date')\n",
    "plt.ylabel('Percentage of Population (%)')\n",
    "plt.grid(True)\n",
    "plt.show()"
   ]
  },
  {
   "cell_type": "code",
   "execution_count": 11,
   "id": "41504b3f",
   "metadata": {},
   "outputs": [
    {
     "name": "stdout",
     "output_type": "stream",
     "text": [
      "      Year  Month  Percentage_outbreak Outbreak_Risk\n",
      "0     2020      1         0.000000e+00           NaN\n",
      "1     2020      1         1.282051e-08           Low\n",
      "2     2020      1         1.282051e-08           Low\n",
      "3     2020      1         5.128205e-08           Low\n",
      "4     2020      1         5.128205e-08           Low\n",
      "...    ...    ...                  ...           ...\n",
      "1402  2023     11         1.326113e+00          High\n",
      "1403  2023     11         1.326113e+00          High\n",
      "1404  2023     11         1.326113e+00          High\n",
      "1405  2023     11         1.326113e+00          High\n",
      "1406  2023     11         1.326113e+00          High\n",
      "\n",
      "[1407 rows x 4 columns]\n"
     ]
    }
   ],
   "source": [
    "# # Assuming you have the thresholds defined as follows:\n",
    "# low_threshold = 0.1\n",
    "# moderate_threshold = 0.5\n",
    "\n",
    "# # Assuming you have a DataFrame named 'monthly_stats' with columns: 'Year', 'Month', 'Percentage_outbreak'\n",
    "\n",
    "# # Create a new column 'Outbreak_Risk' and label each month\n",
    "# daily_stats['Outbreak_Risk'] = pd.cut(\n",
    "#     daily_stats['Percentage_outbreak'],\n",
    "#     bins=[0, low_threshold, moderate_threshold, float('inf')],\n",
    "#     labels=['Low', 'Moderate', 'High']\n",
    "# )\n",
    "\n",
    "# # Display the result\n",
    "# print(daily_stats[['Year', 'Month', 'Percentage_outbreak', 'Outbreak_Risk']])"
   ]
  },
  {
   "cell_type": "markdown",
   "metadata": {},
   "source": [
    "Sentiment Analysis"
   ]
  },
  {
   "cell_type": "code",
   "execution_count": 12,
   "id": "9b7f1cfa",
   "metadata": {},
   "outputs": [
    {
     "name": "stderr",
     "output_type": "stream",
     "text": [
      "[nltk_data] Downloading package vader_lexicon to\n",
      "[nltk_data]     C:\\Users\\kedar\\AppData\\Roaming\\nltk_data...\n",
      "[nltk_data]   Package vader_lexicon is already up-to-date!\n",
      "[nltk_data] Downloading package punkt to\n",
      "[nltk_data]     C:\\Users\\kedar\\AppData\\Roaming\\nltk_data...\n",
      "[nltk_data]   Package punkt is already up-to-date!\n",
      "[nltk_data] Downloading package stopwords to\n",
      "[nltk_data]     C:\\Users\\kedar\\AppData\\Roaming\\nltk_data...\n",
      "[nltk_data]   Package stopwords is already up-to-date!\n"
     ]
    },
    {
     "name": "stdout",
     "output_type": "stream",
     "text": [
      "                                                     body  Sentiment_Score\n",
      "0       When you scheduled your booster with CVS does ...           0.0000\n",
      "1       Didn't stop prices there though. New Zealand a...          -0.1531\n",
      "2       I’m just waiting until after pregnancy to get ...           0.3818\n",
      "3       *The first duty of every Starfleet officer is ...           0.9403\n",
      "4       Compare BC to Ontario for COVID. It's even mor...           0.0000\n",
      "...                                                   ...              ...\n",
      "999995  I used the binaxnow rapid to get into Croatia ...           0.3182\n",
      "999996  Hi, why is Selangor covid can't deep into with...           0.0000\n",
      "999997                        She'll blame this on COVID.          -0.3400\n",
      "999998  New management that made the work terrible. I ...           0.5859\n",
      "999999  The only hope to be rid of covid, or make it m...           0.4404\n",
      "\n",
      "[1000000 rows x 2 columns]\n"
     ]
    }
   ],
   "source": [
    "import nltk # natural language toolkit\n",
    "from nltk.sentiment import SentimentIntensityAnalyzer\n",
    "from nltk.tokenize import word_tokenize # breaking down text into individual tokens\n",
    "from nltk.corpus import stopwords\n",
    "\n",
    "# resources\n",
    "nltk.download('vader_lexicon') #Valence Aware Dictionary and Sentiment reasoner (list of words with associated sentiment scores)\n",
    "nltk.download('punkt') # pre-trained unsupervised model for tokenization - word_tokenize (individual words), sent_tokenize(paragraph to sentences)\n",
    "nltk.download('stopwords') # little value words like articles, conjunctions and so on...\n",
    "\n",
    "# Load the Sentiment Intensity Analyzer\n",
    "sid = SentimentIntensityAnalyzer()\n",
    "\n",
    "\n",
    "# Function to perform sentiment analysis on a text and return the compound score\n",
    "def analyze_sentiment(text):\n",
    "    # Tokenize the text\n",
    "    words = word_tokenize(text)\n",
    "    \n",
    "    # Remove stopwords\n",
    "    stop_words = set(stopwords.words('english'))\n",
    "\n",
    "    #converting words to lowercase letters only\n",
    "    words = [word.lower() for word in words if word.isalnum() and word.lower() not in stop_words]\n",
    "    \n",
    "    # Calculate sentiment scores\n",
    "    sentiment_scores = sid.polarity_scores(' '.join(words)) #polarity_scores generates a dictionary for positive negative and neutral and overall compund score\n",
    "    \n",
    "    # print('sentiment score:', sentiment_scores['compound'])\n",
    "    # Return the compound score\n",
    "    return sentiment_scores['compound']\n",
    "\n",
    "# Apply sentiment analysis to the 'body' column\n",
    "data_comments['Sentiment_Score'] = data_comments['body'].apply(analyze_sentiment)\n",
    "\n",
    "# Display the result\n",
    "print(data_comments[['body', 'Sentiment_Score']])"
   ]
  },
  {
   "cell_type": "code",
   "execution_count": 13,
   "id": "2b75ae7c",
   "metadata": {},
   "outputs": [
    {
     "data": {
      "text/html": [
       "<div>\n",
       "<style scoped>\n",
       "    .dataframe tbody tr th:only-of-type {\n",
       "        vertical-align: middle;\n",
       "    }\n",
       "\n",
       "    .dataframe tbody tr th {\n",
       "        vertical-align: top;\n",
       "    }\n",
       "\n",
       "    .dataframe thead th {\n",
       "        text-align: right;\n",
       "    }\n",
       "</style>\n",
       "<table border=\"1\" class=\"dataframe\">\n",
       "  <thead>\n",
       "    <tr style=\"text-align: right;\">\n",
       "      <th></th>\n",
       "      <th>subreddit.name</th>\n",
       "      <th>created_utc</th>\n",
       "      <th>body</th>\n",
       "      <th>score</th>\n",
       "      <th>Sentiment_Score</th>\n",
       "    </tr>\n",
       "  </thead>\n",
       "  <tbody>\n",
       "    <tr>\n",
       "      <th>0</th>\n",
       "      <td>nova</td>\n",
       "      <td>2021-10-25 23:59:59+00:00</td>\n",
       "      <td>When you scheduled your booster with CVS does ...</td>\n",
       "      <td>2</td>\n",
       "      <td>0.0000</td>\n",
       "    </tr>\n",
       "    <tr>\n",
       "      <th>1</th>\n",
       "      <td>vancouver</td>\n",
       "      <td>2021-10-25 23:59:57+00:00</td>\n",
       "      <td>Didn't stop prices there though. New Zealand a...</td>\n",
       "      <td>32</td>\n",
       "      <td>-0.1531</td>\n",
       "    </tr>\n",
       "    <tr>\n",
       "      <th>2</th>\n",
       "      <td>pregnant</td>\n",
       "      <td>2021-10-25 23:59:57+00:00</td>\n",
       "      <td>I’m just waiting until after pregnancy to get ...</td>\n",
       "      <td>1</td>\n",
       "      <td>0.3818</td>\n",
       "    </tr>\n",
       "    <tr>\n",
       "      <th>3</th>\n",
       "      <td>startrek</td>\n",
       "      <td>2021-10-25 23:59:57+00:00</td>\n",
       "      <td>*The first duty of every Starfleet officer is ...</td>\n",
       "      <td>1</td>\n",
       "      <td>0.9403</td>\n",
       "    </tr>\n",
       "    <tr>\n",
       "      <th>4</th>\n",
       "      <td>ontario</td>\n",
       "      <td>2021-10-25 23:59:55+00:00</td>\n",
       "      <td>Compare BC to Ontario for COVID. It's even mor...</td>\n",
       "      <td>-2</td>\n",
       "      <td>0.0000</td>\n",
       "    </tr>\n",
       "  </tbody>\n",
       "</table>\n",
       "</div>"
      ],
      "text/plain": [
       "  subreddit.name               created_utc  \\\n",
       "0           nova 2021-10-25 23:59:59+00:00   \n",
       "1      vancouver 2021-10-25 23:59:57+00:00   \n",
       "2       pregnant 2021-10-25 23:59:57+00:00   \n",
       "3       startrek 2021-10-25 23:59:57+00:00   \n",
       "4        ontario 2021-10-25 23:59:55+00:00   \n",
       "\n",
       "                                                body  score  Sentiment_Score  \n",
       "0  When you scheduled your booster with CVS does ...      2           0.0000  \n",
       "1  Didn't stop prices there though. New Zealand a...     32          -0.1531  \n",
       "2  I’m just waiting until after pregnancy to get ...      1           0.3818  \n",
       "3  *The first duty of every Starfleet officer is ...      1           0.9403  \n",
       "4  Compare BC to Ontario for COVID. It's even mor...     -2           0.0000  "
      ]
     },
     "execution_count": 13,
     "metadata": {},
     "output_type": "execute_result"
    }
   ],
   "source": [
    "data_comments.head()"
   ]
  },
  {
   "cell_type": "code",
   "execution_count": 14,
   "id": "4f44a3eb",
   "metadata": {},
   "outputs": [],
   "source": [
    "# Sort the DataFrame based on 'created_utc'\n",
    "data_comments = data_comments.sort_values('created_utc')\n",
    "\n",
    "# Extract temporal features\n",
    "data_comments['hour'] = data_comments['created_utc'].dt.hour\n",
    "data_comments['day_of_week'] = data_comments['created_utc'].dt.dayofweek\n",
    "data_comments['day_of_month'] = data_comments['created_utc'].dt.day\n",
    "data_comments['month'] = data_comments['created_utc'].dt.month\n",
    "data_comments['year'] = data_comments['created_utc'].dt.year\n"
   ]
  },
  {
   "cell_type": "code",
   "execution_count": 15,
   "id": "23b4b01b",
   "metadata": {},
   "outputs": [
    {
     "data": {
      "text/html": [
       "<div>\n",
       "<style scoped>\n",
       "    .dataframe tbody tr th:only-of-type {\n",
       "        vertical-align: middle;\n",
       "    }\n",
       "\n",
       "    .dataframe tbody tr th {\n",
       "        vertical-align: top;\n",
       "    }\n",
       "\n",
       "    .dataframe thead th {\n",
       "        text-align: right;\n",
       "    }\n",
       "</style>\n",
       "<table border=\"1\" class=\"dataframe\">\n",
       "  <thead>\n",
       "    <tr style=\"text-align: right;\">\n",
       "      <th></th>\n",
       "      <th>subreddit.name</th>\n",
       "      <th>created_utc</th>\n",
       "      <th>body</th>\n",
       "      <th>score</th>\n",
       "      <th>Sentiment_Score</th>\n",
       "      <th>hour</th>\n",
       "      <th>day_of_week</th>\n",
       "      <th>day_of_month</th>\n",
       "      <th>month</th>\n",
       "      <th>year</th>\n",
       "    </tr>\n",
       "  </thead>\n",
       "  <tbody>\n",
       "    <tr>\n",
       "      <th>999999</th>\n",
       "      <td>warriors</td>\n",
       "      <td>2021-09-24 07:52:48+00:00</td>\n",
       "      <td>The only hope to be rid of covid, or make it m...</td>\n",
       "      <td>0</td>\n",
       "      <td>0.4404</td>\n",
       "      <td>7</td>\n",
       "      <td>4</td>\n",
       "      <td>24</td>\n",
       "      <td>9</td>\n",
       "      <td>2021</td>\n",
       "    </tr>\n",
       "    <tr>\n",
       "      <th>999998</th>\n",
       "      <td>askreddit</td>\n",
       "      <td>2021-09-24 07:52:58+00:00</td>\n",
       "      <td>New management that made the work terrible. I ...</td>\n",
       "      <td>1</td>\n",
       "      <td>0.5859</td>\n",
       "      <td>7</td>\n",
       "      <td>4</td>\n",
       "      <td>24</td>\n",
       "      <td>9</td>\n",
       "      <td>2021</td>\n",
       "    </tr>\n",
       "    <tr>\n",
       "      <th>999997</th>\n",
       "      <td>leopardsatemyface</td>\n",
       "      <td>2021-09-24 07:53:02+00:00</td>\n",
       "      <td>She'll blame this on COVID.</td>\n",
       "      <td>2</td>\n",
       "      <td>-0.3400</td>\n",
       "      <td>7</td>\n",
       "      <td>4</td>\n",
       "      <td>24</td>\n",
       "      <td>9</td>\n",
       "      <td>2021</td>\n",
       "    </tr>\n",
       "    <tr>\n",
       "      <th>999996</th>\n",
       "      <td>malaysia</td>\n",
       "      <td>2021-09-24 07:53:07+00:00</td>\n",
       "      <td>Hi, why is Selangor covid can't deep into with...</td>\n",
       "      <td>-13</td>\n",
       "      <td>0.0000</td>\n",
       "      <td>7</td>\n",
       "      <td>4</td>\n",
       "      <td>24</td>\n",
       "      <td>9</td>\n",
       "      <td>2021</td>\n",
       "    </tr>\n",
       "    <tr>\n",
       "      <th>999995</th>\n",
       "      <td>travelhacks</td>\n",
       "      <td>2021-09-24 07:53:10+00:00</td>\n",
       "      <td>I used the binaxnow rapid to get into Croatia ...</td>\n",
       "      <td>1</td>\n",
       "      <td>0.3182</td>\n",
       "      <td>7</td>\n",
       "      <td>4</td>\n",
       "      <td>24</td>\n",
       "      <td>9</td>\n",
       "      <td>2021</td>\n",
       "    </tr>\n",
       "  </tbody>\n",
       "</table>\n",
       "</div>"
      ],
      "text/plain": [
       "           subreddit.name               created_utc  \\\n",
       "999999           warriors 2021-09-24 07:52:48+00:00   \n",
       "999998          askreddit 2021-09-24 07:52:58+00:00   \n",
       "999997  leopardsatemyface 2021-09-24 07:53:02+00:00   \n",
       "999996           malaysia 2021-09-24 07:53:07+00:00   \n",
       "999995        travelhacks 2021-09-24 07:53:10+00:00   \n",
       "\n",
       "                                                     body  score  \\\n",
       "999999  The only hope to be rid of covid, or make it m...      0   \n",
       "999998  New management that made the work terrible. I ...      1   \n",
       "999997                        She'll blame this on COVID.      2   \n",
       "999996  Hi, why is Selangor covid can't deep into with...    -13   \n",
       "999995  I used the binaxnow rapid to get into Croatia ...      1   \n",
       "\n",
       "        Sentiment_Score  hour  day_of_week  day_of_month  month  year  \n",
       "999999           0.4404     7            4            24      9  2021  \n",
       "999998           0.5859     7            4            24      9  2021  \n",
       "999997          -0.3400     7            4            24      9  2021  \n",
       "999996           0.0000     7            4            24      9  2021  \n",
       "999995           0.3182     7            4            24      9  2021  "
      ]
     },
     "execution_count": 15,
     "metadata": {},
     "output_type": "execute_result"
    }
   ],
   "source": [
    "data_comments.head()"
   ]
  },
  {
   "cell_type": "code",
   "execution_count": 16,
   "id": "04851b2c",
   "metadata": {},
   "outputs": [],
   "source": [
    "# Daily activity: Sum of 'score' grouped by 'day_of_month' and 'month'\n",
    "daily_activity = data_comments.groupby(['day_of_month', 'month'])['score'].sum()\n",
    "\n",
    "# Monthly activity: Sum of 'score' grouped by 'month'\n",
    "monthly_activity = data_comments.groupby('month')['score'].sum()\n",
    "\n",
    "# Daily sentiment: Mean of 'Sentiment_Score' grouped by 'day_of_month'\n",
    "daily_sentiment = data_comments.groupby('day_of_month')['Sentiment_Score'].mean()\n"
   ]
  },
  {
   "cell_type": "code",
   "execution_count": 17,
   "id": "a96587a2",
   "metadata": {},
   "outputs": [
    {
     "name": "stdout",
     "output_type": "stream",
     "text": [
      "unique years: [2021]\n",
      "unique months: [ 9 10]\n",
      "unique days: [24 25 26 27 28 29 30  1  2  3  4  5  6  7  8  9 10 11 12 13 14 15 16 17\n",
      " 18 19 20 21 22 23]\n"
     ]
    }
   ],
   "source": [
    "# Print unique years\n",
    "print('unique years:', data_comments['year'].unique())\n",
    "\n",
    "# Print unique months\n",
    "print('unique months:', data_comments['month'].unique())\n",
    "\n",
    "# Print unique days\n",
    "print('unique days:', data_comments['day_of_month'].unique())\n"
   ]
  },
  {
   "cell_type": "markdown",
   "metadata": {},
   "source": [
    "Visual analysis of sentimental trends and activity on social media"
   ]
  },
  {
   "cell_type": "code",
   "execution_count": 18,
   "id": "9dd92d87",
   "metadata": {},
   "outputs": [
    {
     "data": {
      "image/png": "[encoded data removed]",
      "text/plain": [
       "<Figure size 864x432 with 2 Axes>"
      ]
     },
     "metadata": {
      "needs_background": "light"
     },
     "output_type": "display_data"
    }
   ],
   "source": [
    "import matplotlib.pyplot as plt\n",
    "\n",
    "# Assuming you have previously created 'daily_activity' and 'daily_sentiment' Series\n",
    "\n",
    "# Set the figure size\n",
    "plt.figure(figsize=(12, 6))\n",
    "\n",
    "# Daily Activity\n",
    "plt.subplot(2, 1, 1)\n",
    "daily_activity.plot(kind='bar', color='skyblue')\n",
    "plt.title('Daily Activity')\n",
    "plt.xlabel('Day of Month')\n",
    "plt.ylabel('Total Score')\n",
    "\n",
    "# Daily Sentiment\n",
    "plt.subplot(2, 1, 2)\n",
    "daily_sentiment.plot(kind='line', color='orange')\n",
    "plt.title('Daily Sentiment')\n",
    "plt.xlabel('Day of Month')\n",
    "plt.ylabel('Average Sentiment')\n",
    "\n",
    "# Adjust layout for better spacing\n",
    "plt.tight_layout()\n",
    "\n",
    "# Display the plots\n",
    "plt.show()"
   ]
  },
  {
   "cell_type": "markdown",
   "metadata": {},
   "source": [
    "Language Complexity analysis"
   ]
  },
  {
   "cell_type": "code",
   "execution_count": 19,
   "id": "c1522d8a",
   "metadata": {},
   "outputs": [
    {
     "name": "stderr",
     "output_type": "stream",
     "text": [
      "[nltk_data] Downloading package punkt to\n",
      "[nltk_data]     C:\\Users\\kedar\\AppData\\Roaming\\nltk_data...\n",
      "[nltk_data]   Package punkt is already up-to-date!\n"
     ]
    }
   ],
   "source": [
    "import nltk\n",
    "from nltk import word_tokenize, sent_tokenize\n",
    "from nltk.probability import FreqDist\n",
    "\n",
    "# Download NLTK resources (if not already downloaded)\n",
    "nltk.download('punkt') # pretrained - tokenizer model\n",
    "\n",
    "def language_complexity(comment):\n",
    "    # Tokenize the comment into sentences and words\n",
    "    sentences = sent_tokenize(comment)\n",
    "    words = word_tokenize(comment)\n",
    "\n",
    "    # Calculate average sentence length\n",
    "    avg_sentence_length = len(words) / len(sentences)\n",
    "\n",
    "    # Calculate average word length\n",
    "    avg_word_length = sum(len(word) for word in words) / len(words)\n",
    "\n",
    "    # Calculate Type-Token Ratio (TTR)\n",
    "    ttr = len(set(words)) / len(words) #ratio of the number of unique words to total number of words\n",
    "\n",
    "    # Print the results\n",
    "    # print(f\"Average Sentence Length: {avg_sentence_length}\")\n",
    "    # print(f\"Average Word Length: {avg_word_length}\")\n",
    "    # print(f\"Type-Token Ratio (TTR): {ttr}\")\n",
    "    \n",
    "    return avg_sentence_length, avg_word_length, ttr"
   ]
  },
  {
   "cell_type": "code",
   "execution_count": 20,
   "id": "3984c1ec",
   "metadata": {},
   "outputs": [],
   "source": [
    "data_comments[['avg_length_sentence', 'avg_word_length', 'ttr']] = data_comments['body'].apply(\n",
    "    lambda x: pd.Series(language_complexity(x), index=['avg_length_sentence', 'avg_word_length', 'ttr']))"
   ]
  },
  {
   "cell_type": "code",
   "execution_count": 21,
   "id": "77aac6b0",
   "metadata": {},
   "outputs": [
    {
     "data": {
      "text/html": [
       "<div>\n",
       "<style scoped>\n",
       "    .dataframe tbody tr th:only-of-type {\n",
       "        vertical-align: middle;\n",
       "    }\n",
       "\n",
       "    .dataframe tbody tr th {\n",
       "        vertical-align: top;\n",
       "    }\n",
       "\n",
       "    .dataframe thead th {\n",
       "        text-align: right;\n",
       "    }\n",
       "</style>\n",
       "<table border=\"1\" class=\"dataframe\">\n",
       "  <thead>\n",
       "    <tr style=\"text-align: right;\">\n",
       "      <th></th>\n",
       "      <th>subreddit.name</th>\n",
       "      <th>created_utc</th>\n",
       "      <th>body</th>\n",
       "      <th>score</th>\n",
       "      <th>Sentiment_Score</th>\n",
       "      <th>hour</th>\n",
       "      <th>day_of_week</th>\n",
       "      <th>day_of_month</th>\n",
       "      <th>month</th>\n",
       "      <th>year</th>\n",
       "      <th>avg_length_sentence</th>\n",
       "      <th>avg_word_length</th>\n",
       "      <th>ttr</th>\n",
       "    </tr>\n",
       "  </thead>\n",
       "  <tbody>\n",
       "    <tr>\n",
       "      <th>999999</th>\n",
       "      <td>warriors</td>\n",
       "      <td>2021-09-24 07:52:48+00:00</td>\n",
       "      <td>The only hope to be rid of covid, or make it m...</td>\n",
       "      <td>0</td>\n",
       "      <td>0.4404</td>\n",
       "      <td>7</td>\n",
       "      <td>4</td>\n",
       "      <td>24</td>\n",
       "      <td>9</td>\n",
       "      <td>2021</td>\n",
       "      <td>13.800000</td>\n",
       "      <td>3.884058</td>\n",
       "      <td>0.623188</td>\n",
       "    </tr>\n",
       "    <tr>\n",
       "      <th>999998</th>\n",
       "      <td>askreddit</td>\n",
       "      <td>2021-09-24 07:52:58+00:00</td>\n",
       "      <td>New management that made the work terrible. I ...</td>\n",
       "      <td>1</td>\n",
       "      <td>0.5859</td>\n",
       "      <td>7</td>\n",
       "      <td>4</td>\n",
       "      <td>24</td>\n",
       "      <td>9</td>\n",
       "      <td>2021</td>\n",
       "      <td>12.333333</td>\n",
       "      <td>3.810811</td>\n",
       "      <td>0.837838</td>\n",
       "    </tr>\n",
       "    <tr>\n",
       "      <th>999997</th>\n",
       "      <td>leopardsatemyface</td>\n",
       "      <td>2021-09-24 07:53:02+00:00</td>\n",
       "      <td>She'll blame this on COVID.</td>\n",
       "      <td>2</td>\n",
       "      <td>-0.3400</td>\n",
       "      <td>7</td>\n",
       "      <td>4</td>\n",
       "      <td>24</td>\n",
       "      <td>9</td>\n",
       "      <td>2021</td>\n",
       "      <td>7.000000</td>\n",
       "      <td>3.285714</td>\n",
       "      <td>1.000000</td>\n",
       "    </tr>\n",
       "    <tr>\n",
       "      <th>999996</th>\n",
       "      <td>malaysia</td>\n",
       "      <td>2021-09-24 07:53:07+00:00</td>\n",
       "      <td>Hi, why is Selangor covid can't deep into with...</td>\n",
       "      <td>-13</td>\n",
       "      <td>0.0000</td>\n",
       "      <td>7</td>\n",
       "      <td>4</td>\n",
       "      <td>24</td>\n",
       "      <td>9</td>\n",
       "      <td>2021</td>\n",
       "      <td>11.333333</td>\n",
       "      <td>3.294118</td>\n",
       "      <td>0.882353</td>\n",
       "    </tr>\n",
       "    <tr>\n",
       "      <th>999995</th>\n",
       "      <td>travelhacks</td>\n",
       "      <td>2021-09-24 07:53:10+00:00</td>\n",
       "      <td>I used the binaxnow rapid to get into Croatia ...</td>\n",
       "      <td>1</td>\n",
       "      <td>0.3182</td>\n",
       "      <td>7</td>\n",
       "      <td>4</td>\n",
       "      <td>24</td>\n",
       "      <td>9</td>\n",
       "      <td>2021</td>\n",
       "      <td>15.333333</td>\n",
       "      <td>4.260870</td>\n",
       "      <td>0.782609</td>\n",
       "    </tr>\n",
       "  </tbody>\n",
       "</table>\n",
       "</div>"
      ],
      "text/plain": [
       "           subreddit.name               created_utc  \\\n",
       "999999           warriors 2021-09-24 07:52:48+00:00   \n",
       "999998          askreddit 2021-09-24 07:52:58+00:00   \n",
       "999997  leopardsatemyface 2021-09-24 07:53:02+00:00   \n",
       "999996           malaysia 2021-09-24 07:53:07+00:00   \n",
       "999995        travelhacks 2021-09-24 07:53:10+00:00   \n",
       "\n",
       "                                                     body  score  \\\n",
       "999999  The only hope to be rid of covid, or make it m...      0   \n",
       "999998  New management that made the work terrible. I ...      1   \n",
       "999997                        She'll blame this on COVID.      2   \n",
       "999996  Hi, why is Selangor covid can't deep into with...    -13   \n",
       "999995  I used the binaxnow rapid to get into Croatia ...      1   \n",
       "\n",
       "        Sentiment_Score  hour  day_of_week  day_of_month  month  year  \\\n",
       "999999           0.4404     7            4            24      9  2021   \n",
       "999998           0.5859     7            4            24      9  2021   \n",
       "999997          -0.3400     7            4            24      9  2021   \n",
       "999996           0.0000     7            4            24      9  2021   \n",
       "999995           0.3182     7            4            24      9  2021   \n",
       "\n",
       "        avg_length_sentence  avg_word_length       ttr  \n",
       "999999            13.800000         3.884058  0.623188  \n",
       "999998            12.333333         3.810811  0.837838  \n",
       "999997             7.000000         3.285714  1.000000  \n",
       "999996            11.333333         3.294118  0.882353  \n",
       "999995            15.333333         4.260870  0.782609  "
      ]
     },
     "execution_count": 21,
     "metadata": {},
     "output_type": "execute_result"
    }
   ],
   "source": [
    "data_comments.head()"
   ]
  },
  {
   "cell_type": "markdown",
   "metadata": {},
   "source": [
    "Combining Datasets"
   ]
  },
  {
   "cell_type": "code",
   "execution_count": 22,
   "id": "f2fd1f68",
   "metadata": {},
   "outputs": [
    {
     "name": "stdout",
     "output_type": "stream",
     "text": [
      "    Year  Month  Day   body   score  Sentiment_Score  avg_length_sentence  \\\n",
      "0   2021      9   24  25846  253766         0.057823            19.966824   \n",
      "1   2021      9   25  30203  297809         0.054709            19.687297   \n",
      "2   2021      9   26  31780  316551         0.042931            19.773309   \n",
      "3   2021      9   27  37603  415261         0.032665            19.815857   \n",
      "4   2021      9   28  38477  367523         0.053573            20.072293   \n",
      "5   2021      9   29  38135  360962         0.049408            20.074829   \n",
      "6   2021      9   30  36115  308130         0.053018            19.965721   \n",
      "7   2021     10    1  34178  299455         0.056503            20.015219   \n",
      "8   2021     10    2  29218  295401         0.049048            19.781243   \n",
      "9   2021     10    3  30236  269228         0.043060            19.806721   \n",
      "10  2021     10    4  33580  327335         0.071005            20.288691   \n",
      "11  2021     10    5  32804  297101         0.080026            20.031035   \n",
      "12  2021     10    6  34126  341682         0.054460            20.236836   \n",
      "13  2021     10    7  32827  288379         0.059925            20.183628   \n",
      "14  2021     10    8  30958  284495         0.072020            20.205325   \n",
      "15  2021     10    9  27816  289483         0.065517            19.919804   \n",
      "16  2021     10   10  25949  221142         0.066601            19.788898   \n",
      "17  2021     10   11  28406  273939         0.071075            20.164822   \n",
      "18  2021     10   12  32156  332844         0.072904            20.386117   \n",
      "19  2021     10   13  33585  294084         0.056324            20.101135   \n",
      "20  2021     10   14  33294  337969         0.053531            20.114339   \n",
      "21  2021     10   15  31407  235778         0.054501            19.952875   \n",
      "22  2021     10   16  26813  190767         0.057139            19.851516   \n",
      "23  2021     10   17  26203  179139         0.061585            20.011340   \n",
      "24  2021     10   18  32497  270726         0.052970            20.181067   \n",
      "25  2021     10   19  32077  201817         0.063593            20.292802   \n",
      "26  2021     10   20  33047  260999         0.070111            20.192979   \n",
      "27  2021     10   21  32452  240891         0.058072            20.228856   \n",
      "28  2021     10   22  30050  209450         0.062133            20.246962   \n",
      "29  2021     10   23  23722  173942         0.060385            20.376700   \n",
      "30  2021     10   24  25623  237196         0.052042            20.081516   \n",
      "31  2021     10   25  28817  202362         0.076347            20.409636   \n",
      "\n",
      "    avg_word_length       ttr  New_cases  Cumulative_cases  New_deaths  \\\n",
      "0          4.361872  0.778040     495733          42314060        7755   \n",
      "1          4.317637  0.780688     477130          42452316        7646   \n",
      "2          4.318012  0.779601     672707          42585047       10369   \n",
      "3          4.327908  0.779710     379663          42681213        6373   \n",
      "4          4.345262  0.773949     344829          42756451        6258   \n",
      "5          4.445205  0.774424     417394          42863770        7163   \n",
      "6          4.348634  0.775184     441154          42979222        7905   \n",
      "7          4.319972  0.777582     440602          43096019        7593   \n",
      "8          4.361811  0.777316     439503          43220061        7035   \n",
      "9          4.355745  0.777733     647679          43340735       10073   \n",
      "10         4.335349  0.771276     336507          43422703        5675   \n",
      "11         4.311962  0.774106     323435          43489342        5017   \n",
      "12         4.370888  0.774366     390159          43581158        5887   \n",
      "13         4.377622  0.773526     417243          43682957        7329   \n",
      "14         4.353078  0.769294     424290          43801180        7173   \n",
      "15         4.383846  0.777798     403688          43914218        6608   \n",
      "16         4.352725  0.773607     661970          44022719       10667   \n",
      "17         4.348965  0.770828     322331          44093308        5163   \n",
      "18         4.363821  0.772873     311997          44151757        5315   \n",
      "19         4.380408  0.769794     375508          44229718        5662   \n",
      "20         4.370136  0.772587     392463          44319356        6587   \n",
      "21         4.386661  0.775111     391731          44415668        6517   \n",
      "22         4.349681  0.774628     400030          44512539        6220   \n",
      "23         4.306443  0.774274     689546          44604956       10624   \n",
      "24         4.345751  0.775907     314362          44667958        5244   \n",
      "25         4.344400  0.773063     308816          44715603        4734   \n",
      "26         4.372330  0.772894     383327          44787925        6695   \n",
      "27         4.361361  0.773659     401447          44868520        6557   \n",
      "28         4.357445  0.772999     401534          44945054        6643   \n",
      "29         4.323702  0.773064     394047          45032625        6363   \n",
      "30         4.325388  0.776961     802992          45113499       13117   \n",
      "31         4.305887  0.773387     296224          45149613        5209   \n",
      "\n",
      "    Cumulative_deaths  Percentage_outbreak  \n",
      "0              685047             0.542488  \n",
      "1              687120             0.544260  \n",
      "2              689585             0.545962  \n",
      "3              691020             0.547195  \n",
      "4              692039             0.548160  \n",
      "5              693996             0.549536  \n",
      "6              696151             0.551016  \n",
      "7              698404             0.552513  \n",
      "8              700366             0.554103  \n",
      "9              702577             0.555650  \n",
      "10             703864             0.556701  \n",
      "11             704806             0.557556  \n",
      "12             706162             0.558733  \n",
      "13             708217             0.560038  \n",
      "14             710270             0.561554  \n",
      "15             712008             0.563003  \n",
      "16             714261             0.564394  \n",
      "17             715312             0.565299  \n",
      "18             716325             0.566048  \n",
      "19             717349             0.567048  \n",
      "20             719263             0.568197  \n",
      "21             721109             0.569432  \n",
      "22             722685             0.570674  \n",
      "23             724723             0.571858  \n",
      "24             725615             0.572666  \n",
      "25             726310             0.573277  \n",
      "26             728640             0.574204  \n",
      "27             730489             0.575237  \n",
      "28             732330             0.576219  \n",
      "29             733853             0.577341  \n",
      "30             735814             0.578378  \n",
      "31             736468             0.578841  \n"
     ]
    }
   ],
   "source": [
    "data_comments.rename(columns={'year': 'Year'}, inplace=True)\n",
    "data_comments.rename(columns={'month': 'Month'}, inplace=True)\n",
    "data_comments.rename(columns={'day_of_month': 'Day'}, inplace=True)\n",
    "\n",
    "daily_comments = data_comments.groupby(['Year', 'Month', 'Day']).agg({\n",
    "    'body': 'count',               # Count of comments on the day\n",
    "    'score': 'sum',                # Sum of scores on the day\n",
    "    'Sentiment_Score': 'mean',     # Average sentiment score on the day\n",
    "    'avg_length_sentence': 'mean', # Average length of sentence on the day\n",
    "    'avg_word_length': 'mean',     # Average word length on the day\n",
    "    'ttr': 'mean'                  # Average Type-Token Ratio on the day\n",
    "    # Add more aggregation as needed\n",
    "}).reset_index()\n",
    "\n",
    "# Merge DataFrames based on common columns 'Year', 'Month', and 'Day'\n",
    "combined_data = pd.merge(daily_comments, daily_stats, on=['Year', 'Month', 'Day'])\n",
    "\n",
    "# Calculate the percentage of outbreak for each day\n",
    "combined_data['Percentage_outbreak'] = (combined_data['Cumulative_cases'] / total_population) * 100\n",
    "combined_data.drop('Outbreak_Risk', axis=1, inplace=True)\n",
    "\n",
    "# Display the combined DataFrame\n",
    "print(combined_data)"
   ]
  },
  {
   "cell_type": "code",
   "execution_count": 23,
   "id": "50307e7e",
   "metadata": {},
   "outputs": [
    {
     "name": "stdout",
     "output_type": "stream",
     "text": [
      "Year                   0\n",
      "Month                  0\n",
      "Day                    0\n",
      "body                   0\n",
      "score                  0\n",
      "Sentiment_Score        0\n",
      "avg_length_sentence    0\n",
      "avg_word_length        0\n",
      "ttr                    0\n",
      "New_cases              0\n",
      "Cumulative_cases       0\n",
      "New_deaths             0\n",
      "Cumulative_deaths      0\n",
      "Percentage_outbreak    0\n",
      "dtype: int64\n"
     ]
    }
   ],
   "source": [
    "nan_combined_data = combined_data.isna().sum()\n",
    "print(nan_combined_data)"
   ]
  },
  {
   "cell_type": "markdown",
   "metadata": {},
   "source": [
    "MODELS"
   ]
  },
  {
   "cell_type": "markdown",
   "metadata": {},
   "source": [
    "linear regression & Ridge regression"
   ]
  },
  {
   "cell_type": "code",
   "execution_count": 31,
   "id": "7e401cee",
   "metadata": {},
   "outputs": [
    {
     "name": "stdout",
     "output_type": "stream",
     "text": [
      "R-squared (Linear Regression): 1.0000\n",
      "Mean Squared Error (MSE) (Linear Regression): 0.0000\n",
      "R-squared (Ridge Regression): 1.0000\n",
      "Mean Squared Error (MSE) (Ridge Regression): 0.0000\n",
      "Best alpha for Ridge Regression: 0.000001\n"
     ]
    },
    {
     "data": {
      "image/png": "[encoded data removed]",
      "text/plain": [
       "<Figure size 864x432 with 1 Axes>"
      ]
     },
     "metadata": {
      "needs_background": "light"
     },
     "output_type": "display_data"
    }
   ],
   "source": [
    "import numpy as np\n",
    "from sklearn.linear_model import Ridge, LinearRegression\n",
    "from sklearn.model_selection import cross_val_score, train_test_split\n",
    "from sklearn.preprocessing import StandardScaler\n",
    "from sklearn.metrics import mean_squared_error, r2_score\n",
    "import matplotlib.pyplot as plt\n",
    "import seaborn as sns\n",
    "\n",
    "# Standardize features - ensuring features have a mean =0 and standard deviation = 1\n",
    "scaler = StandardScaler()\n",
    "X_train_scaled = scaler.fit_transform(X_train)\n",
    "X_test_scaled = scaler.transform(X_test)\n",
    "\n",
    "# Linear Regression\n",
    "lr_model = LinearRegression()\n",
    "lr_model.fit(X_train_scaled, y_train)\n",
    "lr_predictions = lr_model.predict(X_test_scaled)\n",
    "\n",
    "# Evaluate Linear Regression model\n",
    "r_squared_lr = r2_score(y_test, lr_predictions)\n",
    "mse_lr = mean_squared_error(y_test, lr_predictions)\n",
    "print(f'R-squared (Linear Regression): {r_squared_lr:.4f}')\n",
    "print(f'Mean Squared Error (MSE) (Linear Regression): {mse_lr:.4f}')\n",
    "\n",
    "# Ridge Regression with Cross-Validation - regularization term\n",
    "alphas = np.logspace(-6, 6, 13)  # range of alpha values logarithmically spaced\n",
    "ridge_cv_scores = []\n",
    "\n",
    "# applying ridge regression for all alpha values to find the tbe cross validated mean squared errors for selection of best alpha\n",
    "for alpha in alphas:\n",
    "    ridge_model = Ridge(alpha=alpha)\n",
    "    cv_scores = cross_val_score(ridge_model, X_train_scaled, y_train, cv=5, scoring='neg_mean_squared_error')\n",
    "    avg_mse_cv = -np.mean(cv_scores)\n",
    "    ridge_cv_scores.append(avg_mse_cv)\n",
    "\n",
    "# minimum MSE = Best alpha\n",
    "best_alpha = alphas[np.argmin(ridge_cv_scores)]\n",
    "\n",
    "# Train the Ridge model with the best alpha\n",
    "ridge_model = Ridge(alpha=best_alpha)\n",
    "ridge_model.fit(X_train_scaled, y_train)\n",
    "ridge_predictions = ridge_model.predict(X_test_scaled)\n",
    "\n",
    "# Evaluate Ridge Regression model\n",
    "r_squared_ridge = r2_score(y_test, ridge_predictions)\n",
    "mse_ridge = mean_squared_error(y_test, ridge_predictions)\n",
    "print(f'R-squared (Ridge Regression): {r_squared_ridge:.4f}')\n",
    "print(f'Mean Squared Error (MSE) (Ridge Regression): {mse_ridge:.4f}')\n",
    "print(f'Best alpha for Ridge Regression: {best_alpha:.6f}')\n",
    "\n",
    "# Plotting\n",
    "plt.figure(figsize=(12, 6))\n",
    "sns.lineplot(x=np.log10(alphas), y=ridge_cv_scores)\n",
    "plt.title('Cross-Validation Scores for Ridge Regression')\n",
    "plt.xlabel('log10(alpha)')\n",
    "plt.ylabel('Cross-Validation MSE')\n",
    "plt.show()"
   ]
  },
  {
   "cell_type": "code",
   "execution_count": 51,
   "metadata": {},
   "outputs": [
    {
     "data": {
      "image/png": "[encoded data removed]",
      "text/plain": [
       "<Figure size 720x432 with 1 Axes>"
      ]
     },
     "metadata": {
      "needs_background": "light"
     },
     "output_type": "display_data"
    },
    {
     "data": {
      "image/png": "[encoded data removed]",
      "text/plain": [
       "<Figure size 720x432 with 1 Axes>"
      ]
     },
     "metadata": {
      "needs_background": "light"
     },
     "output_type": "display_data"
    }
   ],
   "source": [
    "# Residual Plot for Linear Regression\n",
    "residuals_lr = y_test - lr_predictions\n",
    "plt.figure(figsize=(10, 6))\n",
    "sns.scatterplot(x=y_test, y=residuals_lr)\n",
    "plt.title('Residuals Plot (Linear Regression)')\n",
    "plt.xlabel('True Values')\n",
    "plt.ylabel('Residuals')\n",
    "plt.axhline(y=0, color='r', linestyle='--')\n",
    "plt.show()\n",
    "\n",
    "# Residual Plot for Ridge Regression\n",
    "residuals_ridge = y_test - ridge_predictions\n",
    "plt.figure(figsize=(10, 6))\n",
    "sns.scatterplot(x=y_test, y=residuals_ridge)\n",
    "plt.title('Residuals Plot (Ridge Regression)')\n",
    "plt.xlabel('True Values')\n",
    "plt.ylabel('Residuals')\n",
    "plt.axhline(y=0, color='r', linestyle='--')\n",
    "plt.show()"
   ]
  },
  {
   "cell_type": "markdown",
   "metadata": {},
   "source": [
    "Residual plot interpretation:\n",
    "1) Random Distribution: Ideally, residuals should be randomly scattered around the horizontal axis with no clear pattern. This indicates that the model is capturing the underlying patterns in the data well. - exhibits independent relationships between variables\n",
    "2) Line at Zero: A horizontal line at zero on the y-axis indicates that, on average, the model is neither overestimating nor underestimating the true values.\n"
   ]
  },
  {
   "cell_type": "markdown",
   "metadata": {},
   "source": [
    "Conclusions:\n",
    "since R squared error and MSE are 1 and 0 respectively, this suggests overfitting of the model.\n",
    "1) linear  models overfit with high dimensional data specifically when there are multiple features\n",
    "2) ridge regression is sensitive to outliers - regularization term might not be sufficient\n",
    "3) cannot pick and choose features, utilises all features provided.\n",
    "4) data is non-linear"
   ]
  },
  {
   "cell_type": "markdown",
   "metadata": {},
   "source": [
    "SVM - Regression "
   ]
  },
  {
   "cell_type": "code",
   "execution_count": 52,
   "metadata": {},
   "outputs": [
    {
     "name": "stdout",
     "output_type": "stream",
     "text": [
      "Best Parameters: {'C': 0.01, 'epsilon': 0.01}\n",
      "R-squared (SVM): 0.3252\n",
      "Mean Squared Error (MSE) (SVM): 0.0001\n"
     ]
    },
    {
     "data": {
      "image/png": "[encoded data removed]",
      "text/plain": [
       "<Figure size 720x432 with 1 Axes>"
      ]
     },
     "metadata": {
      "needs_background": "light"
     },
     "output_type": "display_data"
    },
    {
     "data": {
      "image/png": "[encoded data removed]",
      "text/plain": [
       "<Figure size 720x432 with 1 Axes>"
      ]
     },
     "metadata": {
      "needs_background": "light"
     },
     "output_type": "display_data"
    }
   ],
   "source": [
    "from sklearn.svm import SVR\n",
    "from sklearn.model_selection import GridSearchCV\n",
    "\n",
    "# Create an SVM model\n",
    "svm_model = SVR(kernel = 'rbf')\n",
    "\n",
    "# Define a parameter grid for GridSearchCV\n",
    "# c- regularization parameter to control tradeoff between bias and variance\n",
    "# epsilon - defines margin of tolerance within which errors are not accepted.\n",
    "param_grid = {'C': [0.001, 0.01, 0.1, 1, 10, 100], 'epsilon': [0.01, 0.1, 0.2, 0.5, 1]}\n",
    "\n",
    "# Use GridSearchCV to find the best parameters - hyperparameter tuning\n",
    "# - mse\n",
    "# 5- fold cross validation\n",
    "grid_search = GridSearchCV(svm_model, param_grid, cv=5, scoring='neg_mean_squared_error')\n",
    "grid_search.fit(X_train_scaled, y_train)\n",
    "\n",
    "# Get the best parameters\n",
    "best_params = grid_search.best_params_\n",
    "print(f\"Best Parameters: {best_params}\")\n",
    "\n",
    "# Create an SVM model with the best parameters\n",
    "best_svm_model = SVR(C=best_params['C'], epsilon=best_params['epsilon'])\n",
    "\n",
    "# Fit the model to the training data\n",
    "best_svm_model.fit(X_train_scaled, y_train)\n",
    "\n",
    "# Make predictions on the test set\n",
    "svm_predictions = best_svm_model.predict(X_test_scaled)\n",
    "\n",
    "# Evaluate the model\n",
    "r_squared_svm = r2_score(y_test, svm_predictions)\n",
    "mse_svm = mean_squared_error(y_test, svm_predictions)\n",
    "\n",
    "print(f'R-squared (SVM): {r_squared_svm:.4f}')\n",
    "print(f'Mean Squared Error (MSE) (SVM): {mse_svm:.4f}')\n",
    "\n",
    "import matplotlib.pyplot as plt\n",
    "import seaborn as sns\n",
    "\n",
    "# Scatter plot of true vs predicted values\n",
    "plt.figure(figsize=(10, 6))\n",
    "sns.scatterplot(x=y_test, y=svm_predictions)\n",
    "plt.title('True vs Predicted Values (SVM)')\n",
    "plt.xlabel('True Values')\n",
    "plt.ylabel('Predicted Values')\n",
    "plt.show()\n",
    "\n",
    "# Residuals plot\n",
    "residuals = y_test - svm_predictions\n",
    "plt.figure(figsize=(10, 6))\n",
    "sns.scatterplot(x=y_test, y=residuals)\n",
    "plt.title('Residuals Plot (SVM)')\n",
    "plt.xlabel('True Values')\n",
    "plt.ylabel('Residuals')\n",
    "plt.axhline(y=0, color='r', linestyle='--')\n",
    "plt.show()\n",
    "\n"
   ]
  },
  {
   "cell_type": "markdown",
   "metadata": {},
   "source": [
    "conclusions:\n",
    "1) R-squared (SVM): 0.3252, Mean Squared Error (MSE) (SVM): 0.0001 this suggests an underfitting model\n",
    "2) sensitive to outliers which is why it underfits"
   ]
  },
  {
   "cell_type": "markdown",
   "metadata": {},
   "source": [
    "KNN"
   ]
  },
  {
   "cell_type": "code",
   "execution_count": 35,
   "metadata": {},
   "outputs": [
    {
     "name": "stdout",
     "output_type": "stream",
     "text": [
      "R-squared (Ensemble with KNN): 0.7224\n",
      "Mean Squared Error (MSE) (Ensemble with KNN): 0.0000\n"
     ]
    },
    {
     "name": "stderr",
     "output_type": "stream",
     "text": [
      "c:\\Users\\kedar\\AppData\\Local\\Programs\\Python\\Python310\\lib\\site-packages\\sklearn\\ensemble\\_base.py:156: FutureWarning: `base_estimator` was renamed to `estimator` in version 1.2 and will be removed in 1.4.\n",
      "  warnings.warn(\n"
     ]
    },
    {
     "data": {
      "image/png": "[encoded data removed]",
      "text/plain": [
       "<Figure size 720x432 with 1 Axes>"
      ]
     },
     "metadata": {
      "needs_background": "light"
     },
     "output_type": "display_data"
    },
    {
     "data": {
      "image/png": "[encoded data removed]",
      "text/plain": [
       "<Figure size 720x432 with 1 Axes>"
      ]
     },
     "metadata": {
      "needs_background": "light"
     },
     "output_type": "display_data"
    }
   ],
   "source": [
    "from sklearn.ensemble import BaggingRegressor\n",
    "from sklearn.neighbors import KNeighborsRegressor\n",
    "from sklearn.metrics import r2_score, mean_squared_error\n",
    "\n",
    "# Create a Decision Trees model ensembled with KNN\n",
    "knn_model = KNeighborsRegressor()\n",
    "ensemble_model = BaggingRegressor(base_estimator=knn_model, n_estimators=10, random_state=42)\n",
    "\n",
    "# Fit the model to the training data\n",
    "ensemble_model.fit(X_train_scaled, y_train)\n",
    "\n",
    "# Make predictions on the test set\n",
    "ensemble_predictions = ensemble_model.predict(X_test_scaled)\n",
    "\n",
    "# Evaluate the model\n",
    "r_squared_ensemble = r2_score(y_test, ensemble_predictions)\n",
    "mse_ensemble = mean_squared_error(y_test, ensemble_predictions)\n",
    "\n",
    "print(f'R-squared (Ensemble with KNN): {r_squared_ensemble:.4f}')\n",
    "print(f'Mean Squared Error (MSE) (Ensemble with KNN): {mse_ensemble:.4f}')\n",
    "\n",
    "import matplotlib.pyplot as plt\n",
    "import seaborn as sns\n",
    "\n",
    "# Scatter plot of true vs predicted values\n",
    "plt.figure(figsize=(10, 6))\n",
    "sns.scatterplot(x=y_test, y=ensemble_predictions)\n",
    "plt.title('True vs Predicted Values (Ensemble with KNN)')\n",
    "plt.xlabel('True Values')\n",
    "plt.ylabel('Predicted Values')\n",
    "plt.show()\n",
    "\n",
    "# Residuals plot\n",
    "ensemble_residuals = y_test - ensemble_predictions\n",
    "plt.figure(figsize=(10, 6))\n",
    "sns.scatterplot(x=y_test, y=ensemble_residuals)\n",
    "plt.title('Residuals Plot (Ensemble with KNN)')\n",
    "plt.xlabel('True Values')\n",
    "plt.ylabel('Residuals')\n",
    "plt.axhline(y=0, color='r', linestyle='--')\n",
    "plt.show()"
   ]
  },
  {
   "cell_type": "markdown",
   "metadata": {},
   "source": [
    "conclusions: \n",
    "- R-squared (Ensemble with KNN): 0.7224, Mean Squared Error (MSE) (Ensemble with KNN): 0.0000 suggests a good fit of the model\n",
    "- decision tree make good global decisions and KNNs manage good local decisions\n",
    "\n"
   ]
  },
  {
   "cell_type": "markdown",
   "metadata": {},
   "source": [
    "Random Forest"
   ]
  },
  {
   "cell_type": "code",
   "execution_count": 38,
   "metadata": {},
   "outputs": [
    {
     "name": "stdout",
     "output_type": "stream",
     "text": [
      "R-squared (Random Forest): 0.7762\n",
      "Mean Squared Error (MSE) (Random Forest): 0.0000\n"
     ]
    },
    {
     "data": {
      "image/png": "[encoded data removed]",
      "text/plain": [
       "<Figure size 720x432 with 1 Axes>"
      ]
     },
     "metadata": {
      "needs_background": "light"
     },
     "output_type": "display_data"
    },
    {
     "data": {
      "image/png": "[encoded data removed]",
      "text/plain": [
       "<Figure size 720x432 with 1 Axes>"
      ]
     },
     "metadata": {
      "needs_background": "light"
     },
     "output_type": "display_data"
    }
   ],
   "source": [
    "from sklearn.ensemble import RandomForestRegressor\n",
    "from sklearn.metrics import r2_score, mean_squared_error\n",
    "\n",
    "# Use a RandomForestRegressor with adjusted parameters\n",
    "rf_model = RandomForestRegressor(n_estimators=200, max_depth=10, max_features=\"sqrt\", random_state=42)\n",
    "\n",
    "# Fit the model to the training data\n",
    "rf_model.fit(X_train_scaled, y_train)\n",
    "\n",
    "# Make predictions on the test set\n",
    "rf_predictions = rf_model.predict(X_test_scaled)\n",
    "\n",
    "# Evaluate the model\n",
    "r_squared_rf = r2_score(y_test, rf_predictions)\n",
    "mse_rf = mean_squared_error(y_test, rf_predictions)\n",
    "\n",
    "print(f'R-squared (Random Forest): {r_squared_rf:.4f}')\n",
    "print(f'Mean Squared Error (MSE) (Random Forest): {mse_rf:.4f}')\n",
    "\n",
    "# Scatter plot of true vs predicted values\n",
    "plt.figure(figsize=(10, 6))\n",
    "sns.scatterplot(x=y_test, y=rf_predictions)\n",
    "plt.title('True vs Predicted Values (Random Forest)')\n",
    "plt.xlabel('True Values')\n",
    "plt.ylabel('Predicted Values')\n",
    "plt.show()\n",
    "\n",
    "# Residuals plot\n",
    "rf_residuals = y_test - rf_predictions\n",
    "plt.figure(figsize=(10, 6))\n",
    "sns.scatterplot(x=y_test, y=rf_residuals)\n",
    "plt.title('Residuals Plot (Random Forest)')\n",
    "plt.xlabel('True Values')\n",
    "plt.ylabel('Residuals')\n",
    "plt.axhline(y=0, color='r', linestyle='--')\n",
    "plt.show()"
   ]
  },
  {
   "cell_type": "markdown",
   "metadata": {},
   "source": [
    "conclusions: \n",
    "- R-squared (Random Forest): 0.7762, Mean Squared Error (MSE) (Random Forest): 0.0000 suggests The best fit compared to all the models\n",
    "- subset of features (randomized) \n",
    "- robust to missing values\n",
    "- feature importance\n"
   ]
  },
  {
   "cell_type": "code",
   "execution_count": 40,
   "metadata": {},
   "outputs": [
    {
     "data": {
      "image/png": "[encoded data removed]",
      "text/plain": [
       "<Figure size 1080x720 with 4 Axes>"
      ]
     },
     "metadata": {
      "needs_background": "light"
     },
     "output_type": "display_data"
    }
   ],
   "source": [
    "# Scatter plot of true vs predicted values for all models\n",
    "plt.figure(figsize=(15, 10))\n",
    "\n",
    "# Linear Regression\n",
    "plt.subplot(2, 3, 1)\n",
    "sns.scatterplot(x=y_test, y=lr_predictions)\n",
    "plt.title('True vs Predicted Values (Linear Regression)')\n",
    "plt.xlabel('True Values')\n",
    "plt.ylabel('Predicted Values')\n",
    "\n",
    "# SVM\n",
    "plt.subplot(2, 3, 2)\n",
    "sns.scatterplot(x=y_test, y=svm_predictions)\n",
    "plt.title('True vs Predicted Values (SVM)')\n",
    "plt.xlabel('True Values')\n",
    "plt.ylabel('Predicted Values')\n",
    "\n",
    "# Ensemble with KNN\n",
    "plt.subplot(2, 3, 3)\n",
    "sns.scatterplot(x=y_test, y=ensemble_predictions)\n",
    "plt.title('True vs Predicted Values (Ensemble with KNN)')\n",
    "plt.xlabel('True Values')\n",
    "plt.ylabel('Predicted Values')\n",
    "\n",
    "# Random Forest\n",
    "plt.subplot(2, 3, 4)\n",
    "sns.scatterplot(x=y_test, y=rf_predictions)\n",
    "plt.title('True vs Predicted Values (Random Forest)')\n",
    "plt.xlabel('True Values')\n",
    "plt.ylabel('Predicted Values')\n",
    "\n",
    "plt.tight_layout()\n",
    "plt.show()"
   ]
  },
  {
   "cell_type": "code",
   "execution_count": 44,
   "metadata": {},
   "outputs": [
    {
     "name": "stderr",
     "output_type": "stream",
     "text": [
      "c:\\Users\\kedar\\AppData\\Local\\Programs\\Python\\Python310\\lib\\site-packages\\sklearn\\ensemble\\_base.py:156: FutureWarning: `base_estimator` was renamed to `estimator` in version 1.2 and will be removed in 1.4.\n",
      "  warnings.warn(\n",
      "c:\\Users\\kedar\\AppData\\Local\\Programs\\Python\\Python310\\lib\\site-packages\\sklearn\\ensemble\\_base.py:156: FutureWarning: `base_estimator` was renamed to `estimator` in version 1.2 and will be removed in 1.4.\n",
      "  warnings.warn(\n",
      "c:\\Users\\kedar\\AppData\\Local\\Programs\\Python\\Python310\\lib\\site-packages\\sklearn\\ensemble\\_base.py:156: FutureWarning: `base_estimator` was renamed to `estimator` in version 1.2 and will be removed in 1.4.\n",
      "  warnings.warn(\n",
      "c:\\Users\\kedar\\AppData\\Local\\Programs\\Python\\Python310\\lib\\site-packages\\sklearn\\ensemble\\_base.py:156: FutureWarning: `base_estimator` was renamed to `estimator` in version 1.2 and will be removed in 1.4.\n",
      "  warnings.warn(\n",
      "c:\\Users\\kedar\\AppData\\Local\\Programs\\Python\\Python310\\lib\\site-packages\\sklearn\\ensemble\\_base.py:156: FutureWarning: `base_estimator` was renamed to `estimator` in version 1.2 and will be removed in 1.4.\n",
      "  warnings.warn(\n"
     ]
    },
    {
     "name": "stdout",
     "output_type": "stream",
     "text": [
      "Ensemble with KNN - Average MSE: 0.00003731281110014121\n",
      "Random Forest - Average MSE: 0.00001946175304530501\n"
     ]
    }
   ],
   "source": [
    "from sklearn.model_selection import cross_val_score\n",
    "\n",
    "# Define the models\n",
    "ensemble_model = BaggingRegressor(base_estimator=KNeighborsRegressor(), n_estimators=10, random_state=42)\n",
    "rf_model = RandomForestRegressor(n_estimators=200, max_depth=10, max_features=\"sqrt\", random_state=42)\n",
    "\n",
    "# Perform cross-validation\n",
    "cv_scores_ensemble = cross_val_score(ensemble_model, X_train_scaled, y_train, cv=5, scoring='neg_mean_squared_error')\n",
    "cv_scores_rf = cross_val_score(rf_model, X_train_scaled, y_train, cv=5, scoring='neg_mean_squared_error')\n",
    "\n",
    "# Convert scores to positive (since 'neg_mean_squared_error' returns negative values)\n",
    "cv_scores_ensemble = -cv_scores_ensemble\n",
    "cv_scores_rf = -cv_scores_rf\n",
    "\n",
    "# Print average scores\n",
    "print(f'Ensemble with KNN - Average MSE: {cv_scores_ensemble.mean():.20f}')\n",
    "print(f'Random Forest - Average MSE: {cv_scores_rf.mean():.20f}')\n",
    "\n",
    "## final model is random forest"
   ]
  },
  {
   "cell_type": "markdown",
   "metadata": {},
   "source": [
    "conclusion:\n",
    "final cross validation (after calculating average MSE): random forest regression has a lower MSE than Decision Tree Ensemble with KNN hence making it the best fitting model"
   ]
  }
 ],
 "metadata": {
  "kernelspec": {
   "display_name": "Python 3 (ipykernel)",
   "language": "python",
   "name": "python3"
  },
  "language_info": {
   "codemirror_mode": {
    "name": "ipython",
    "version": 3
   },
   "file_extension": ".py",
   "mimetype": "text/x-python",
   "name": "python",
   "nbconvert_exporter": "python",
   "pygments_lexer": "ipython3",
   "version": "3.10.1"
  }
 },
 "nbformat": 4,
 "nbformat_minor": 5
}
